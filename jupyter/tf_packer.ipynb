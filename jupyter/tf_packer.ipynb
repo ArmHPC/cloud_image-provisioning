{
 "cells": [
  {
   "cell_type": "code",
   "execution_count": null,
   "id": "d62d5d11-804f-4c09-a875-f5de9400dd83",
   "metadata": {},
   "outputs": [],
   "source": [
    "import ipywidgets as widgets\n",
    "from IPython.display import display\n",
    "import subprocess"
   ]
  },
  {
   "cell_type": "code",
   "execution_count": null,
   "id": "ed0b6531-0544-47f9-85a7-369b5787f0ac",
   "metadata": {},
   "outputs": [],
   "source": [
    "# Define available options for each key\n",
    "os_versions = {'Ubuntu 22.04 Jammy': 'ubuntu/images/*ubuntu-jammy-22.04-amd64-server-*', 'Ubuntu 16.04 Xenial': 'ubuntu/images/*ubuntu-xenial-16.04-amd64-server-*'}\n",
    "instance_types = {'Micro': 't2.micro', 'Small': 't2.small', 'Large': 't2.large'}\n",
    "regions = {'US East': 'us-east-1', 'US West': 'us-west-1', 'Europe': 'eu-central-1'}\n",
    "\n",
    "# Create checkbox widgets for each key\n",
    "os_checkbox = widgets.RadioButtons(\n",
    "    options=os_versions,\n",
    "    description='OS version:'\n",
    ")\n",
    "\n",
    "instance_checkbox = widgets.RadioButtons(\n",
    "    options=instance_types,\n",
    "    description='Instance Type:'\n",
    ")\n",
    "\n",
    "region_checkbox = widgets.RadioButtons(\n",
    "    options=regions,\n",
    "    description='Region:'\n",
    ")\n",
    "\n",
    "# Display the checkboxes\n",
    "display(os_checkbox)\n",
    "display(instance_checkbox)\n",
    "display(region_checkbox)\n"
   ]
  },
  {
   "cell_type": "code",
   "execution_count": null,
   "id": "7ab5a836-5ed1-4fc6-bcb7-8698c4e4dcf3",
   "metadata": {},
   "outputs": [],
   "source": [
    "# Collect the choices into a dictionary\n",
    "def collect_choices():\n",
    "    img_choices = {\n",
    "        'OS version': os_checkbox.value,\n",
    "        'Instance Type': instance_checkbox.value,\n",
    "        'Region': region_checkbox.value\n",
    "    }\n",
    "    return img_choices\n",
    "\n",
    "# Example usage:\n",
    "image_choices = collect_choices()\n",
    "print(\"User's Choices:\", image_choices)"
   ]
  },
  {
   "cell_type": "code",
   "execution_count": null,
   "id": "da5fefef-2f9f-4950-87c3-b443dca34619",
   "metadata": {},
   "outputs": [],
   "source": [
    "# Create radio buttons for user choice\n",
    "main_choice = widgets.RadioButtons(options=[\"Jupyter Notebook\", \"Run Code\"], description=\"Choose:\")\n",
    "\n",
    "\n",
    "# Display radio buttons\n",
    "display(main_choice)\n"
   ]
  },
  {
   "cell_type": "code",
   "execution_count": null,
   "id": "1fdb6c83-6706-4dbc-8d70-6c3abb49a68c",
   "metadata": {},
   "outputs": [],
   "source": [
    "# Assigning dictionary values\n",
    "if main_choice.value == \"Jupyter Notebook\":\n",
    "    \n",
    "    choices = {\n",
    "        'Python Kernel': True,\n",
    "        'R Kernel': False\n",
    "    }\n",
    "    python_checkbox = widgets.Checkbox(value=True, description=\"Python Kernel\", disabled=True)\n",
    "    r_checkbox = widgets.Checkbox(value=False, description=\"R Kernel\")\n",
    "else:\n",
    "    choices = {\n",
    "        'Python': False,\n",
    "        'R': False\n",
    "    }\n",
    "    python_checkbox = widgets.Checkbox(value=False, description=\"Python\")\n",
    "    r_checkbox = widgets.Checkbox(value=False, description=\"R\")\n",
    "\n",
    "print(main_choice.value)\n",
    "print(choices)\n",
    "display(python_checkbox)\n",
    "display(r_checkbox)"
   ]
  },
  {
   "cell_type": "code",
   "execution_count": null,
   "id": "219b63fc-1d9e-4d98-987b-01a67109f11b",
   "metadata": {},
   "outputs": [],
   "source": [
    "# Change dict values based on user input\n",
    "if main_choice.value == 'Jupyter Notebook':\n",
    "    if python_checkbox.value:\n",
    "        choices[\"Python Kernel\"] = True\n",
    "    else:\n",
    "        choices[\"Python Kernel\"] = False\n",
    "\n",
    "    if r_checkbox.value:\n",
    "        choices[\"R Kernel\"] = True\n",
    "    else:\n",
    "        choices[\"R Kernel\"] = False\n",
    "else:\n",
    "    if python_checkbox.value:\n",
    "        choices[\"Python\"] = True\n",
    "    else:\n",
    "        choices[\"Python\"] = False\n",
    "\n",
    "    if r_checkbox.value:\n",
    "        choices[\"R\"] = True\n",
    "    else:\n",
    "        choices[\"R\"] = False\n",
    "\n",
    "print(main_choice.value)\n",
    "print(choices)"
   ]
  },
  {
   "cell_type": "code",
   "execution_count": null,
   "id": "84e667dc-45f0-4150-b91a-6eca4186c2bc",
   "metadata": {},
   "outputs": [],
   "source": [
    "# Create a dict for storing shell commands needed for the provisioner script\n",
    "command_map = {\n",
    "    'Python Kernel': '''\\\n",
    "sudo apt-get install -y python3 python3-pip\n",
    "pip install jupyter\n",
    "\n",
    "source ~/.profile\n",
    "\n",
    "jupyter notebook --generate-config\n",
    "echo \"c.NotebookApp.ip = '0.0.0.0'\" | tee -a /home/terraform/.jupyter/jupyter_notebook_config.py\n",
    "echo \"c.NotebookApp.open_browser = False\" | tee -a /home/terraform/.jupyter/jupyter_notebook_config.py\n",
    "    ''',\n",
    "    'R Kernel': '''\\\n",
    "sudo apt -y install r-base\n",
    "sudo R -e 'install.packages(\"IRkernel\")'\n",
    "\n",
    "R --no-save << EOF2\n",
    "IRkernel::installspec()\n",
    "q()\n",
    "EOF2\n",
    "    '''\n",
    "}"
   ]
  },
  {
   "cell_type": "code",
   "execution_count": null,
   "id": "336657cb-fe21-440c-96e2-2c7a24365a4e",
   "metadata": {},
   "outputs": [],
   "source": [
    "# Read code from provided path and store in command_map along with other commands\n",
    "def read_code_from_file(file_path):\n",
    "    with open(file_path, 'r') as file:\n",
    "        code = file.read()\n",
    "    return code\n",
    "\n",
    "if main_choice.value == 'Run Code':\n",
    "    if choices['Python']:\n",
    "        file_path = input('Input the file path for your Python code: ')\n",
    "        py_code = read_code_from_file(file_path)\n",
    "        command_map['Python'] = f'''\\\n",
    "sudo apt-get install -y python3 python3-pip\n",
    "python3 << EOF2 > output_py.txt\n",
    "{py_code}\n",
    "EOF2\n",
    "'''\n",
    "    if choices['R']:\n",
    "        file_path = input('Input the file path for your R code: ')\n",
    "        r_code = read_code_from_file(file_path)\n",
    "        command_map['R'] = f'''\\\n",
    "sudo apt -y install r-base\n",
    "R --no-save << EOF3 > output_r.txt\n",
    "{r_code}\n",
    "q()\n",
    "EOF3\n",
    "''' "
   ]
  },
  {
   "cell_type": "code",
   "execution_count": null,
   "id": "d191af1f-73ad-442a-b0c5-d042bb3a5e90",
   "metadata": {},
   "outputs": [],
   "source": [
    "commands = [command_map[choice] for choice, selected in choices.items() if selected]\n",
    "\n",
    "# Open setup.sh in append mode and write the commands\n",
    "with open('../scripts/setup.sh', 'a') as f:\n",
    "    f.write('\\n')  # Add a newline for clarity\n",
    "    for command in commands:\n",
    "        f.write(command + '\\n')\n",
    "    f.write('EOF\\n')  # Add EOF marker after the last command"
   ]
  },
  {
   "cell_type": "code",
   "execution_count": null,
   "id": "d465dc9d-4306-4277-8074-ce1bd14fd8bd",
   "metadata": {},
   "outputs": [],
   "source": [
    "# Create the packer config by passing choices too the script as arguments\n",
    "subprocess.run(['../scripts/create_packer.sh', 'image.pkr.hcl', image_choices['Instance Type'], image_choices['Region'], image_choices['OS version']])"
   ]
  },
  {
   "cell_type": "code",
   "execution_count": null,
   "id": "e2a03b30-7a8c-4b74-bce4-ca8fc4984a16",
   "metadata": {},
   "outputs": [],
   "source": [
    "# Initialize packer image\n",
    "subprocess.run('packer init ../images/image.pkr.hcl', shell=True)"
   ]
  },
  {
   "cell_type": "code",
   "execution_count": null,
   "id": "d9c4a46e-fc72-4704-a623-708ff689665c",
   "metadata": {
    "scrolled": true
   },
   "outputs": [],
   "source": [
    "# Build packer image\n",
    "subprocess.run('packer build ../images/image.pkr.hcl', shell=True)"
   ]
  },
  {
   "cell_type": "code",
   "execution_count": null,
   "id": "0dffabf9-e6f4-4f23-8705-4f0eda037b55",
   "metadata": {},
   "outputs": [],
   "source": [
    "# Parse the created manifest.json file for the AMI ID and pass it to a variable\n",
    "result = subprocess.run('jq -r \\'.builds[0].artifact_id|split(\":\")[1]\\' ./manifest.json', shell=True, stdout=subprocess.PIPE, stderr=subprocess.PIPE, text=True)\n",
    "ami_id = result.stdout.strip()\n",
    "print(ami_id)"
   ]
  },
  {
   "cell_type": "code",
   "execution_count": null,
   "id": "d143d336-f6cd-460a-b45c-6dc1a5e5e754",
   "metadata": {},
   "outputs": [],
   "source": [
    "# Create tfvars file which stores variables for the Terraform config\n",
    "subprocess.run(['../scripts/create_tfvars.sh', image_choices['Region'], ami_id, image_choices['Instance Type']])"
   ]
  },
  {
   "cell_type": "code",
   "execution_count": null,
   "id": "f0cb74f0-5272-4c13-9450-449241a02426",
   "metadata": {
    "scrolled": true
   },
   "outputs": [],
   "source": [
    "# Deploy the image using Terraform\n",
    "subprocess.run('terraform -chdir=../instances init && terraform -chdir=../instances apply -auto-approve', shell=True)"
   ]
  }
 ],
 "metadata": {
  "kernelspec": {
   "display_name": "Python 3 (ipykernel)",
   "language": "python",
   "name": "python3"
  },
  "language_info": {
   "codemirror_mode": {
    "name": "ipython",
    "version": 3
   },
   "file_extension": ".py",
   "mimetype": "text/x-python",
   "name": "python",
   "nbconvert_exporter": "python",
   "pygments_lexer": "ipython3",
   "version": "3.10.12"
  },
  "widgets": {
   "application/vnd.jupyter.widget-state+json": {
    "state": {
     "03a36499f24441d7bbea130deaf54fed": {
      "model_module": "@jupyter-widgets/base",
      "model_module_version": "2.0.0",
      "model_name": "LayoutModel",
      "state": {}
     },
     "0a205e3de80b433691e6ad3bc49c2159": {
      "model_module": "@jupyter-widgets/base",
      "model_module_version": "2.0.0",
      "model_name": "LayoutModel",
      "state": {}
     },
     "0f89f7bce7a24541aac18b0378b88090": {
      "model_module": "@jupyter-widgets/controls",
      "model_module_version": "2.0.0",
      "model_name": "DescriptionStyleModel",
      "state": {
       "description_width": ""
      }
     },
     "14fba41e5f8f4ac88f39b4e39bcc458a": {
      "model_module": "@jupyter-widgets/controls",
      "model_module_version": "2.0.0",
      "model_name": "VBoxModel",
      "state": {
       "children": [
        "IPY_MODEL_e834595e35c049f69ab3e3e0ba6a66b5"
       ],
       "layout": "IPY_MODEL_170a1996f28a4d7aa8017a0b1f93c1b6"
      }
     },
     "1640e7fec590400ea86f40ce94610868": {
      "model_module": "@jupyter-widgets/controls",
      "model_module_version": "2.0.0",
      "model_name": "CheckboxModel",
      "state": {
       "description": "Checkbox 2",
       "disabled": false,
       "layout": "IPY_MODEL_31998b25d5d44b5bbf2603dabb214550",
       "style": "IPY_MODEL_2ee2ff5672354b09b957d0955702d06e",
       "value": false
      }
     },
     "170a1996f28a4d7aa8017a0b1f93c1b6": {
      "model_module": "@jupyter-widgets/base",
      "model_module_version": "2.0.0",
      "model_name": "LayoutModel",
      "state": {}
     },
     "1c073747698d47abb91fe1c24f4f67a3": {
      "model_module": "@jupyter-widgets/controls",
      "model_module_version": "2.0.0",
      "model_name": "CheckboxModel",
      "state": {
       "description": "Checkbox 1",
       "disabled": false,
       "layout": "IPY_MODEL_3580e3b231264fdda0034a428efa35be",
       "style": "IPY_MODEL_2b0539038824413bbafef193cdcda17c",
       "value": false
      }
     },
     "1e3fd0c3bec04487b4d44cf1eea7e46d": {
      "model_module": "@jupyter-widgets/controls",
      "model_module_version": "2.0.0",
      "model_name": "CheckboxModel",
      "state": {
       "description": "Checkbox B",
       "disabled": false,
       "layout": "IPY_MODEL_3f0605bd737b4c1d94bfaf64697ed350",
       "style": "IPY_MODEL_ab12c1e503e840e398dedd5104176625",
       "value": false
      }
     },
     "2b0539038824413bbafef193cdcda17c": {
      "model_module": "@jupyter-widgets/controls",
      "model_module_version": "2.0.0",
      "model_name": "CheckboxStyleModel",
      "state": {
       "description_width": ""
      }
     },
     "2ee2ff5672354b09b957d0955702d06e": {
      "model_module": "@jupyter-widgets/controls",
      "model_module_version": "2.0.0",
      "model_name": "CheckboxStyleModel",
      "state": {
       "description_width": ""
      }
     },
     "317f9f52ad0546c3ac2956cd77fe48b1": {
      "model_module": "@jupyter-widgets/base",
      "model_module_version": "2.0.0",
      "model_name": "LayoutModel",
      "state": {}
     },
     "31998b25d5d44b5bbf2603dabb214550": {
      "model_module": "@jupyter-widgets/base",
      "model_module_version": "2.0.0",
      "model_name": "LayoutModel",
      "state": {}
     },
     "319f0b93f4c84f69a0b22b78692e3fc2": {
      "model_module": "@jupyter-widgets/output",
      "model_module_version": "1.0.0",
      "model_name": "OutputModel",
      "state": {
       "layout": "IPY_MODEL_fa6388d10b704d0286c40f7feb03c904",
       "outputs": [
        {
         "data": {
          "application/vnd.jupyter.widget-view+json": {
           "model_id": "e3780254d2da45818a56e955a05b38ca",
           "version_major": 2,
           "version_minor": 0
          },
          "text/plain": "VBox(children=(Checkbox(value=False, description='Checkbox 1'), Checkbox(value=False, description='Checkbox 2'…"
         },
         "metadata": {},
         "output_type": "display_data"
        }
       ]
      }
     },
     "32955c1807854edba6e1f49d7c303d76": {
      "model_module": "@jupyter-widgets/controls",
      "model_module_version": "2.0.0",
      "model_name": "CheckboxModel",
      "state": {
       "description": "Checkbox B",
       "disabled": false,
       "layout": "IPY_MODEL_4138622b49e7407aa5369f47593da409",
       "style": "IPY_MODEL_8333a7c5e9444b34a610d16bdffccdfb",
       "value": false
      }
     },
     "3580e3b231264fdda0034a428efa35be": {
      "model_module": "@jupyter-widgets/base",
      "model_module_version": "2.0.0",
      "model_name": "LayoutModel",
      "state": {}
     },
     "37e1d6d9ed7545f389a94b68e6174bd4": {
      "model_module": "@jupyter-widgets/controls",
      "model_module_version": "2.0.0",
      "model_name": "VBoxModel",
      "state": {
       "_dom_classes": [
        "widget-interact"
       ],
       "children": [
        "IPY_MODEL_b50f82c66650418ca6c9764d7845dfa3",
        "IPY_MODEL_319f0b93f4c84f69a0b22b78692e3fc2"
       ],
       "layout": "IPY_MODEL_fd3df817f55849919e6d250c9c133b59"
      }
     },
     "37f2099a63e6440a9b105afa17f8138b": {
      "model_module": "@jupyter-widgets/base",
      "model_module_version": "2.0.0",
      "model_name": "LayoutModel",
      "state": {}
     },
     "3f0605bd737b4c1d94bfaf64697ed350": {
      "model_module": "@jupyter-widgets/base",
      "model_module_version": "2.0.0",
      "model_name": "LayoutModel",
      "state": {}
     },
     "4138622b49e7407aa5369f47593da409": {
      "model_module": "@jupyter-widgets/base",
      "model_module_version": "2.0.0",
      "model_name": "LayoutModel",
      "state": {}
     },
     "42e804c1dee94088b7a7044d02340758": {
      "model_module": "@jupyter-widgets/controls",
      "model_module_version": "2.0.0",
      "model_name": "CheckboxStyleModel",
      "state": {
       "description_width": ""
      }
     },
     "48cfcab3112e4d8eab74364134a4f822": {
      "model_module": "@jupyter-widgets/controls",
      "model_module_version": "2.0.0",
      "model_name": "CheckboxStyleModel",
      "state": {
       "description_width": ""
      }
     },
     "5aee7bb7c9db49f69993b896633642bf": {
      "model_module": "@jupyter-widgets/controls",
      "model_module_version": "2.0.0",
      "model_name": "VBoxModel",
      "state": {
       "children": [
        "IPY_MODEL_ba3d44fe31c347a09da68ed112e96097",
        "IPY_MODEL_1e3fd0c3bec04487b4d44cf1eea7e46d"
       ],
       "layout": "IPY_MODEL_5ebbcb330e2c48c5b3e367ae9ebb2c62"
      }
     },
     "5ebbcb330e2c48c5b3e367ae9ebb2c62": {
      "model_module": "@jupyter-widgets/base",
      "model_module_version": "2.0.0",
      "model_name": "LayoutModel",
      "state": {}
     },
     "69200353f7fd48e888d6cde3ad9bac8a": {
      "model_module": "@jupyter-widgets/controls",
      "model_module_version": "2.0.0",
      "model_name": "VBoxModel",
      "state": {
       "children": [
        "IPY_MODEL_1c073747698d47abb91fe1c24f4f67a3",
        "IPY_MODEL_e8de958eb2ce4a6099e29c67d78ec09d"
       ],
       "layout": "IPY_MODEL_854dcc67de334822a21cba5ea7028d4f"
      }
     },
     "8333a7c5e9444b34a610d16bdffccdfb": {
      "model_module": "@jupyter-widgets/controls",
      "model_module_version": "2.0.0",
      "model_name": "CheckboxStyleModel",
      "state": {
       "description_width": ""
      }
     },
     "854dcc67de334822a21cba5ea7028d4f": {
      "model_module": "@jupyter-widgets/base",
      "model_module_version": "2.0.0",
      "model_name": "LayoutModel",
      "state": {}
     },
     "85fdadfe121345cd9bc5d4bbb9e2d789": {
      "model_module": "@jupyter-widgets/controls",
      "model_module_version": "2.0.0",
      "model_name": "CheckboxModel",
      "state": {
       "description": "Checkbox 1",
       "disabled": false,
       "layout": "IPY_MODEL_b6eaeb84abfb47a7950511d949f99d29",
       "style": "IPY_MODEL_9aa4e9c010d044b0a285f889c73e2790",
       "value": false
      }
     },
     "9590112dc86647d9a49053e139692af7": {
      "model_module": "@jupyter-widgets/controls",
      "model_module_version": "2.0.0",
      "model_name": "CheckboxStyleModel",
      "state": {
       "description_width": ""
      }
     },
     "97cd14e5a7b546ca90e99ddbbe95d0f8": {
      "model_module": "@jupyter-widgets/controls",
      "model_module_version": "2.0.0",
      "model_name": "VBoxModel",
      "state": {
       "_dom_classes": [
        "widget-interact"
       ],
       "children": [
        "IPY_MODEL_e834595e35c049f69ab3e3e0ba6a66b5",
        "IPY_MODEL_b9261814698e413485ec47548ca18ee6"
       ],
       "layout": "IPY_MODEL_317f9f52ad0546c3ac2956cd77fe48b1"
      }
     },
     "97eb9fd414aa4541a44fff291a2f1435": {
      "model_module": "@jupyter-widgets/base",
      "model_module_version": "2.0.0",
      "model_name": "LayoutModel",
      "state": {}
     },
     "9aa4e9c010d044b0a285f889c73e2790": {
      "model_module": "@jupyter-widgets/controls",
      "model_module_version": "2.0.0",
      "model_name": "CheckboxStyleModel",
      "state": {
       "description_width": ""
      }
     },
     "ab12c1e503e840e398dedd5104176625": {
      "model_module": "@jupyter-widgets/controls",
      "model_module_version": "2.0.0",
      "model_name": "CheckboxStyleModel",
      "state": {
       "description_width": ""
      }
     },
     "ae314ac9b5ad4ffe8ffb6e7d95f7ec5f": {
      "model_module": "@jupyter-widgets/controls",
      "model_module_version": "2.0.0",
      "model_name": "VBoxModel",
      "state": {
       "children": [
        "IPY_MODEL_b50f82c66650418ca6c9764d7845dfa3"
       ],
       "layout": "IPY_MODEL_37f2099a63e6440a9b105afa17f8138b"
      }
     },
     "af58733034964d52b669f5a32c85c9e3": {
      "model_module": "@jupyter-widgets/controls",
      "model_module_version": "2.0.0",
      "model_name": "CheckboxModel",
      "state": {
       "description": "Checkbox A",
       "disabled": false,
       "layout": "IPY_MODEL_f00d48c90d064f20b2e6b70034b6f4fe",
       "style": "IPY_MODEL_42e804c1dee94088b7a7044d02340758",
       "value": false
      }
     },
     "b50f82c66650418ca6c9764d7845dfa3": {
      "model_module": "@jupyter-widgets/controls",
      "model_module_version": "2.0.0",
      "model_name": "DropdownModel",
      "state": {
       "_options_labels": [
        "Option 1",
        "Option 2"
       ],
       "description": "Choose an option:",
       "index": 0,
       "layout": "IPY_MODEL_c61fdcb08c084393ab59fcb0800215d2",
       "style": "IPY_MODEL_bda7faed8c214ee98512914c4e390cdb"
      }
     },
     "b6888ae80a4f412cbe399096ca967e1d": {
      "model_module": "@jupyter-widgets/base",
      "model_module_version": "2.0.0",
      "model_name": "LayoutModel",
      "state": {}
     },
     "b6eaeb84abfb47a7950511d949f99d29": {
      "model_module": "@jupyter-widgets/base",
      "model_module_version": "2.0.0",
      "model_name": "LayoutModel",
      "state": {}
     },
     "b9261814698e413485ec47548ca18ee6": {
      "model_module": "@jupyter-widgets/output",
      "model_module_version": "1.0.0",
      "model_name": "OutputModel",
      "state": {
       "layout": "IPY_MODEL_03a36499f24441d7bbea130deaf54fed",
       "outputs": [
        {
         "data": {
          "application/vnd.jupyter.widget-view+json": {
           "model_id": "69200353f7fd48e888d6cde3ad9bac8a",
           "version_major": 2,
           "version_minor": 0
          },
          "text/plain": "VBox(children=(Checkbox(value=False, description='Checkbox 1'), Checkbox(value=False, description='Checkbox 2'…"
         },
         "metadata": {},
         "output_type": "display_data"
        }
       ]
      }
     },
     "ba3d44fe31c347a09da68ed112e96097": {
      "model_module": "@jupyter-widgets/controls",
      "model_module_version": "2.0.0",
      "model_name": "CheckboxModel",
      "state": {
       "description": "Checkbox A",
       "disabled": false,
       "layout": "IPY_MODEL_fa181150d4c1434188ebe5186be19fa0",
       "style": "IPY_MODEL_48cfcab3112e4d8eab74364134a4f822",
       "value": false
      }
     },
     "bda7faed8c214ee98512914c4e390cdb": {
      "model_module": "@jupyter-widgets/controls",
      "model_module_version": "2.0.0",
      "model_name": "DescriptionStyleModel",
      "state": {
       "description_width": ""
      }
     },
     "c61fdcb08c084393ab59fcb0800215d2": {
      "model_module": "@jupyter-widgets/base",
      "model_module_version": "2.0.0",
      "model_name": "LayoutModel",
      "state": {}
     },
     "cc03d63233704d6da368fe9d569708d2": {
      "model_module": "@jupyter-widgets/base",
      "model_module_version": "2.0.0",
      "model_name": "LayoutModel",
      "state": {}
     },
     "cf54b43ec26241ad92c6c0c1088f0f19": {
      "model_module": "@jupyter-widgets/controls",
      "model_module_version": "2.0.0",
      "model_name": "VBoxModel",
      "state": {
       "children": [
        "IPY_MODEL_af58733034964d52b669f5a32c85c9e3",
        "IPY_MODEL_32955c1807854edba6e1f49d7c303d76"
       ],
       "layout": "IPY_MODEL_0a205e3de80b433691e6ad3bc49c2159"
      }
     },
     "e3780254d2da45818a56e955a05b38ca": {
      "model_module": "@jupyter-widgets/controls",
      "model_module_version": "2.0.0",
      "model_name": "VBoxModel",
      "state": {
       "children": [
        "IPY_MODEL_85fdadfe121345cd9bc5d4bbb9e2d789",
        "IPY_MODEL_1640e7fec590400ea86f40ce94610868"
       ],
       "layout": "IPY_MODEL_b6888ae80a4f412cbe399096ca967e1d"
      }
     },
     "e834595e35c049f69ab3e3e0ba6a66b5": {
      "model_module": "@jupyter-widgets/controls",
      "model_module_version": "2.0.0",
      "model_name": "DropdownModel",
      "state": {
       "_options_labels": [
        "Option 1",
        "Option 2"
       ],
       "description": "Choose an option:",
       "index": 0,
       "layout": "IPY_MODEL_cc03d63233704d6da368fe9d569708d2",
       "style": "IPY_MODEL_0f89f7bce7a24541aac18b0378b88090"
      }
     },
     "e8de958eb2ce4a6099e29c67d78ec09d": {
      "model_module": "@jupyter-widgets/controls",
      "model_module_version": "2.0.0",
      "model_name": "CheckboxModel",
      "state": {
       "description": "Checkbox 2",
       "disabled": false,
       "layout": "IPY_MODEL_97eb9fd414aa4541a44fff291a2f1435",
       "style": "IPY_MODEL_9590112dc86647d9a49053e139692af7",
       "value": false
      }
     },
     "f00d48c90d064f20b2e6b70034b6f4fe": {
      "model_module": "@jupyter-widgets/base",
      "model_module_version": "2.0.0",
      "model_name": "LayoutModel",
      "state": {}
     },
     "fa181150d4c1434188ebe5186be19fa0": {
      "model_module": "@jupyter-widgets/base",
      "model_module_version": "2.0.0",
      "model_name": "LayoutModel",
      "state": {}
     },
     "fa6388d10b704d0286c40f7feb03c904": {
      "model_module": "@jupyter-widgets/base",
      "model_module_version": "2.0.0",
      "model_name": "LayoutModel",
      "state": {}
     },
     "fd3df817f55849919e6d250c9c133b59": {
      "model_module": "@jupyter-widgets/base",
      "model_module_version": "2.0.0",
      "model_name": "LayoutModel",
      "state": {}
     }
    },
    "version_major": 2,
    "version_minor": 0
   }
  }
 },
 "nbformat": 4,
 "nbformat_minor": 5
}
